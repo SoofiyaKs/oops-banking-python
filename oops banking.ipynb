{
 "cells": [
  {
   "cell_type": "code",
   "execution_count": 1,
   "id": "ec35bcc5-eab9-41d8-b675-b91da461687e",
   "metadata": {},
   "outputs": [
    {
     "name": "stdout",
     "output_type": "stream",
     "text": [
      "Accoun holder name is: Soofiya\n"
     ]
    },
    {
     "name": "stdin",
     "output_type": "stream",
     "text": [
      "Enter your Account Number: 07532400000123\n"
     ]
    },
    {
     "ename": "NameError",
     "evalue": "name 'Accountnumber' is not defined",
     "output_type": "error",
     "traceback": [
      "\u001b[1;31m---------------------------------------------------------------------------\u001b[0m",
      "\u001b[1;31mNameError\u001b[0m                                 Traceback (most recent call last)",
      "Cell \u001b[1;32mIn[1], line 34\u001b[0m\n\u001b[0;32m     32\u001b[0m Account1\u001b[38;5;241m=\u001b[39mBankAccount(\u001b[38;5;124m\"\u001b[39m\u001b[38;5;124mSoofiya\u001b[39m\u001b[38;5;124m\"\u001b[39m)\n\u001b[0;32m     33\u001b[0m \u001b[38;5;28mprint\u001b[39m(\u001b[38;5;124mf\u001b[39m\u001b[38;5;124m\"\u001b[39m\u001b[38;5;124mAccoun holder name is: \u001b[39m\u001b[38;5;132;01m{\u001b[39;00mAccount1\u001b[38;5;241m.\u001b[39maccount_holder\u001b[38;5;132;01m}\u001b[39;00m\u001b[38;5;124m\"\u001b[39m)\n\u001b[1;32m---> 34\u001b[0m Account1\u001b[38;5;241m.\u001b[39maccount_login()\n\u001b[0;32m     35\u001b[0m Account1\u001b[38;5;241m.\u001b[39mdeposit_amount(\u001b[38;5;241m10000\u001b[39m)\n\u001b[0;32m     36\u001b[0m Account1\u001b[38;5;241m.\u001b[39mwithdraw_amount()\n",
      "Cell \u001b[1;32mIn[1], line 10\u001b[0m, in \u001b[0;36mBankAccount.account_login\u001b[1;34m(self)\u001b[0m\n\u001b[0;32m      8\u001b[0m \u001b[38;5;28;01mdef\u001b[39;00m \u001b[38;5;21maccount_login\u001b[39m(\u001b[38;5;28mself\u001b[39m):\n\u001b[0;32m      9\u001b[0m     \u001b[38;5;28mself\u001b[39m\u001b[38;5;241m.\u001b[39maccountNumber\u001b[38;5;241m=\u001b[39m\u001b[38;5;28minput\u001b[39m(\u001b[38;5;124m\"\u001b[39m\u001b[38;5;124mEnter your Account Number:\u001b[39m\u001b[38;5;124m\"\u001b[39m)\n\u001b[1;32m---> 10\u001b[0m     \u001b[38;5;28;01mif\u001b[39;00m \u001b[38;5;28mself\u001b[39m\u001b[38;5;241m.\u001b[39maccountNumber \u001b[38;5;129;01min\u001b[39;00m Accountnumber:\n\u001b[0;32m     11\u001b[0m         \u001b[38;5;28mself\u001b[39m\u001b[38;5;241m.\u001b[39mpin\u001b[38;5;241m=\u001b[39m\u001b[38;5;28minput\u001b[39m(\u001b[38;5;124m\"\u001b[39m\u001b[38;5;124mEnter the OTP\u001b[39m\u001b[38;5;124m\"\u001b[39m)\n\u001b[0;32m     12\u001b[0m         \u001b[38;5;28mprint\u001b[39m(\u001b[38;5;124mf\u001b[39m\u001b[38;5;124m\"\u001b[39m\u001b[38;5;124mAccount Number is \u001b[39m\u001b[38;5;132;01m{\u001b[39;00m\u001b[38;5;28mself\u001b[39m\u001b[38;5;241m.\u001b[39maccountNumber\u001b[38;5;132;01m}\u001b[39;00m\u001b[38;5;124m\"\u001b[39m)\n",
      "\u001b[1;31mNameError\u001b[0m: name 'Accountnumber' is not defined"
     ]
    }
   ],
   "source": [
    "#Write a python program to replicate a Banking system. :\n",
    "class BankAccount:\n",
    "    def __init__(self,account_holder):\n",
    "        self.account_holder=account_holder\n",
    "        self.balance=0\n",
    "        self.accountNumber=0\n",
    "        self.pin=0\n",
    "    def account_login(self):\n",
    "        self.accountNumber=input(\"Enter your Account Number:\")\n",
    "        if self.accountNumber in Accountnumber:\n",
    "            self.pin=input(\"Enter the OTP\")\n",
    "            print(f\"Account Number is {self.accountNumber}\")\n",
    "        else:\n",
    "            print(\"Account number is not existing.\")\n",
    "    def deposit_amount(self,amount):\n",
    "        if amount<0:\n",
    "            print(\"The amount should be positive\")\n",
    "        elif amount>0:\n",
    "            self.balance=self.balance+amount \n",
    "    def withdraw_amount(self):\n",
    "        amount=int(input(\"Enter the amount to withdraw:\"))\n",
    "        if 0<amount<self.balance:\n",
    "            self.balance=self.balance-amount\n",
    "            print(f\"Withdrawing {amount} from account\")      \n",
    "        elif amount>self.balance:\n",
    "            print(\"The amount is insufficient. You cannot withdraw\")\n",
    "        elif amount<0:\n",
    "            print(\"The amount should be positive\")\n",
    "\n",
    "    def get_balance(self):\n",
    "        print(f\"Balance amount is {self.balance}\")\n",
    "Account1=BankAccount(\"Soofiya\")\n",
    "print(f\"Accoun holder name is: {Account1.account_holder}\")\n",
    "Account1.account_login()\n",
    "Account1.deposit_amount(10000)\n",
    "Account1.withdraw_amount()\n",
    "Account1.get_balance()"
   ]
  },
  {
   "cell_type": "code",
   "execution_count": null,
   "id": "9dc772e8-a05a-41c2-b068-62b4a3f1432d",
   "metadata": {},
   "outputs": [],
   "source": []
  }
 ],
 "metadata": {
  "kernelspec": {
   "display_name": "Python 3 (ipykernel)",
   "language": "python",
   "name": "python3"
  },
  "language_info": {
   "codemirror_mode": {
    "name": "ipython",
    "version": 3
   },
   "file_extension": ".py",
   "mimetype": "text/x-python",
   "name": "python",
   "nbconvert_exporter": "python",
   "pygments_lexer": "ipython3",
   "version": "3.12.4"
  }
 },
 "nbformat": 4,
 "nbformat_minor": 5
}
